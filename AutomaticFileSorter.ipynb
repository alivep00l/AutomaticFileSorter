{
 "cells": [
  {
   "cell_type": "code",
   "execution_count": 3,
   "id": "52daace2-0682-42a4-9cf0-0921eb13bd15",
   "metadata": {},
   "outputs": [],
   "source": [
    "import os, shutil"
   ]
  },
  {
   "cell_type": "code",
   "execution_count": 134,
   "id": "a58fb098-0835-4f4f-9943-6e13453469ec",
   "metadata": {},
   "outputs": [
    {
     "name": "stdin",
     "output_type": "stream",
     "text": [
      "Enter the path of the Folder in which you want automatic sorting  C:\\Users\\spssa\\Downloads\\filesorter\\\n"
     ]
    },
    {
     "name": "stdout",
     "output_type": "stream",
     "text": [
      "Your files have been moved.\n"
     ]
    }
   ],
   "source": [
    "path = str(input(\"Enter the path of the Folder in which you want automatic sorting \"))\n",
    "file_name = [f for f in os.listdir(path) if os.path.isfile(os.path.join(path,f))]\n",
    "file_extension = set()\n",
    "\n",
    "for file in file_name:\n",
    "    extension = os.path.splitext(file)[1].lower()\n",
    "    if extension:\n",
    "        file_extension.add(extension)\n",
    "\n",
    "\n",
    "extension_folder_map = {}       \n",
    "\n",
    "for ext in file_extension:\n",
    "    folder_name = ext.lstrip('.') + 'files'\n",
    "    folder_path = os.path.join(path, folder_name)\n",
    "    extension_folder_map[ext] = folder_path\n",
    "    if not os.path.exists(folder_path):\n",
    "        os.makedirs(folder_path)\n",
    "\n",
    "for file in file_name:\n",
    "    extension = os.path.splitext(file)[1].lower()\n",
    "    if extension in extension_folder_map:  \n",
    "        folder_path = extension_folder_map[extension]\n",
    "        shutil.move(os.path.join(path, file), os.path.join(folder_path, file))\n",
    "print(\"Your files have been moved.\")"
   ]
  },
  {
   "cell_type": "code",
   "execution_count": null,
   "id": "d7c5ed3e-1fe2-4a10-a87b-fb5ce950fb60",
   "metadata": {},
   "outputs": [],
   "source": []
  }
 ],
 "metadata": {
  "kernelspec": {
   "display_name": "Python 3 (ipykernel)",
   "language": "python",
   "name": "python3"
  },
  "language_info": {
   "codemirror_mode": {
    "name": "ipython",
    "version": 3
   },
   "file_extension": ".py",
   "mimetype": "text/x-python",
   "name": "python",
   "nbconvert_exporter": "python",
   "pygments_lexer": "ipython3",
   "version": "3.12.4"
  }
 },
 "nbformat": 4,
 "nbformat_minor": 5
}
